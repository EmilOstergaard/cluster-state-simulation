{
 "cells": [
  {
   "cell_type": "code",
   "execution_count": 2,
   "metadata": {},
   "outputs": [],
   "source": [
    "import numpy as np\n",
    "import math"
   ]
  },
  {
   "cell_type": "code",
   "execution_count": 3,
   "metadata": {},
   "outputs": [],
   "source": [
    "def binary(x,n):\n",
    "    num = x\n",
    "    bin_num = np.zeros(n)\n",
    "\n",
    "    for i in range(n-1,-1,-1):\n",
    "        if num - 2**i >= 0:\n",
    "            bin_num[i] = int(1)\n",
    "            num = num - 2**i\n",
    "\n",
    "    return [int(x) for x in bin_num.tolist()]\n",
    "\n",
    "def binary_inv(x,n):\n",
    "    num = x\n",
    "    bin_num = np.ones(n)\n",
    "\n",
    "    for i in range(n-1,-1,-1):\n",
    "        if num - 2**i >= 0:\n",
    "            bin_num[i] = int(0)\n",
    "            num = num - 2**i\n",
    "\n",
    "    return [int(x) for x in bin_num.tolist()]"
   ]
  },
  {
   "cell_type": "code",
   "execution_count": 4,
   "metadata": {},
   "outputs": [],
   "source": [
    "n=16\n",
    "bipartitions = []\n",
    "Ss = []\n",
    "\n",
    "for i in range(2**(n-1)-1):\n",
    "    bin_num = binary(i+1,n)\n",
    "    bin_num_inv = binary_inv(i+1,n)\n",
    "    S_1 = []\n",
    "    S_2 = []\n",
    "    for k in range(n):\n",
    "        if bin_num[k] == 1:\n",
    "            S_1.append(k+1)\n",
    "        else:\n",
    "            S_2.append(k+1)\n",
    "    bipartitions.append([S_1, S_2])\n",
    "\n",
    "    S1 = np.diag(bin_num)\n",
    "    S2 = np.diag(bin_num_inv)\n",
    "    \n",
    "    Ss.append([S1,S2])\n"
   ]
  },
  {
   "cell_type": "code",
   "execution_count": 24,
   "metadata": {},
   "outputs": [
    {
     "name": "stdout",
     "output_type": "stream",
     "text": [
      "[[0 0 0 0 0 0 0 0 0 0 0 0 0 0 0 0]\n",
      " [0 1 0 0 0 0 0 0 0 0 0 0 0 0 0 0]\n",
      " [0 0 1 0 0 0 0 0 0 0 0 0 0 0 0 0]\n",
      " [0 0 0 1 0 0 0 0 0 0 0 0 0 0 0 0]\n",
      " [0 0 0 0 1 0 0 0 0 0 0 0 0 0 0 0]\n",
      " [0 0 0 0 0 1 0 0 0 0 0 0 0 0 0 0]\n",
      " [0 0 0 0 0 0 1 0 0 0 0 0 0 0 0 0]\n",
      " [0 0 0 0 0 0 0 1 0 0 0 0 0 0 0 0]\n",
      " [0 0 0 0 0 0 0 0 1 0 0 0 0 0 0 0]\n",
      " [0 0 0 0 0 0 0 0 0 1 0 0 0 0 0 0]\n",
      " [0 0 0 0 0 0 0 0 0 0 1 0 0 0 0 0]\n",
      " [0 0 0 0 0 0 0 0 0 0 0 1 0 0 0 0]\n",
      " [0 0 0 0 0 0 0 0 0 0 0 0 1 0 0 0]\n",
      " [0 0 0 0 0 0 0 0 0 0 0 0 0 1 0 0]\n",
      " [0 0 0 0 0 0 0 0 0 0 0 0 0 0 1 0]\n",
      " [0 0 0 0 0 0 0 0 0 0 0 0 0 0 0 1]]\n"
     ]
    }
   ],
   "source": [
    "print(Ss[0][1])"
   ]
  },
  {
   "cell_type": "code",
   "execution_count": 5,
   "metadata": {},
   "outputs": [],
   "source": [
    "class nullifier():\n",
    "    def __init__(self, unit_cell_modes, boundary_modes):\n",
    "        self.unit_cell_modes = unit_cell_modes\n",
    "        self.boundary_modes = boundary_modes\n",
    "    \n",
    "    def add_nullifier(self, n):\n",
    "        new_unit_cell_modes = self.unit_cell_modes + n.unit_cell_modes\n",
    "        new_boundary_modes = self.boundary_modes + n.boundary_modes\n",
    "        return nullifier(new_unit_cell_modes, new_boundary_modes)\n",
    "\n",
    "    def subtract_nullifier(self, n):\n",
    "        new_unit_cell_modes = self.unit_cell_modes - n.unit_cell_modes\n",
    "        new_boundary_modes = self.boundary_modes - n.boundary_modes\n",
    "        return nullifier(new_unit_cell_modes, new_boundary_modes)\n"
   ]
  },
  {
   "cell_type": "code",
   "execution_count": 6,
   "metadata": {},
   "outputs": [],
   "source": [
    "def mod2array(pos, neg):\n",
    "    array = np.zeros(112)\n",
    "    for num in pos:\n",
    "        array[num-1] = 1\n",
    "    for num in neg:\n",
    "        array[num-1] = -1\n",
    "    return array\n",
    "\n",
    "def operatorOverlap(x,p):\n",
    "    for i in range(len(x)):\n",
    "        if (x[i] != 0) & (p[i] != 0):\n",
    "            return True\n",
    "            break\n",
    "        else:\n",
    "            pass\n",
    "    return False"
   ]
  },
  {
   "cell_type": "code",
   "execution_count": 7,
   "metadata": {},
   "outputs": [],
   "source": [
    "#Defining the unit cell nullifiers in x and p, and all adjacent nullifiers which share at least one mode in common with the unit cell nullifiers\n",
    "\n",
    "n_x_0 = nullifier(np.array([-1,1,1,-1,-1,-1,-1,-1,-1,1,-1,1,-1,-1,1,1]), np.zeros(112))\n",
    "n_x_1 = nullifier(np.array([0,0,-1,1,0,0,-1,-1,0,0,-1,1,0,0,-1,-1]), mod2array([91,94,101,102], [92,99,100,93]))\n",
    "n_x_2 = nullifier(np.array([1,-1,0,0,-1,-1,0,0,-1,1,0,0,1,1,0,0]),mod2array([12,14],[11,13,19,20,21,22]))\n",
    "n_x_3 = nullifier(np.array([0,0,0,0,0,0,-1,1,0,0,0,0,0,0,-1,1]),mod2array([99,102,109,110],[75,76,77,78,100,101,107,108]))\n",
    "n_x_4 = nullifier(np.array([-1,-1,0,0,0,0,0,0,1,1,0,0,0,0,0,0]),mod2array([4,6,35,38],[3,5,11,12,13,14,36,37]))\n",
    "n_x_5 = nullifier(np.array([0,0,0,0,0,0,0,0,-1,1,1,-1,-1,-1,-1,-1]),mod2array([44,66,71,72],[43,47,48,65]))\n",
    "n_x_6 = nullifier(np.array([-1,1,-1,1,-1,-1,1,1,0,0,0,0,0,0,0,0]),mod2array([42,65],[41,66,45,46,69,70]))\n",
    "n_x_7 = nullifier(np.array([0,0,0,0,-1,1,1,-1,0,0,0,0,-1,1,-1,1]),mod2array([77,78],[51,52,53,54,75,76]))\n",
    "n_x_8 = nullifier(np.array([-1,-1,-1,-1,0,0,0,0,-1,-1,1,1,0,0,0,0]),mod2array([36,38,59,62],[35,37,60,61]))\n",
    "n_x_9 = nullifier(np.array([0,0,0,0,0,0,0,0,0,0,-1,1,0,0,-1,-1]),mod2array([93,68,96,103,104],[94,101,102,67,95,71,72]))\n",
    "n_x_10 = nullifier(np.array([0,0,0,0,0,0,0,0,1,-1,0,0,-1,-1,0,0]),mod2array([14,16,44,47,48],[13,21,22,15,43,23,24]))\n",
    "n_x_11 = nullifier(np.array([0,0,-1,1,0,0,-1,-1,0,0,0,0,0,0,0,0]),mod2array([64,89,92,99,100],[65,90,69,70,97,98,91]))\n",
    "n_x_12 = nullifier(np.array([-1,1,0,0,1,1,0,0,0,0,0,0,0,0,0,0]),mod2array([10,41,12],[9,42,17,18,45,46,11,19,20]))\n",
    "n_x_13 = nullifier(np.array([0,0,0,0,0,0,0,0,0,0,0,0,0,0,-1,1]),mod2array([101,72,104,111,112],[102,77,78,109,110,71,103,79,80]))\n",
    "n_x_14 = nullifier(np.array([0,0,0,0,0,0,0,0,-1,-1,0,0,0,0,0,0]),mod2array([6,37,8,40,43,44],[5,38,13,14,7,39,15,16]))\n",
    "n_x_15 = nullifier(np.array([0,0,0,0,0,0,-1,1,0,0,0,0,0,0,0,0]),mod2array([70,97,100,107,108],[69,98,73,74,105,106,99,75,76]))\n",
    "n_x_16 = nullifier(np.array([1,1,0,0,0,0,0,0,0,0,0,0,0,0,0,0]),mod2array([2,33,4,36],[1,34,9,10,41,42,3,35,11,12]))\n",
    "n_x_17 = nullifier(np.array([0,0,0,0,0,0,0,0,-1,-1,-1,-1,0,0,0,0]),mod2array([38,61,40,64,67,68],[37,62,39,63,43,44]))\n",
    "n_x_18 = nullifier(np.array([0,0,0,0,0,0,0,0,0,0,0,0,-1,1,1,-1]),mod2array([48,72,79,80],[53,54,77,78,47,71,55,56]))\n",
    "n_x_19 = nullifier(np.array([-1,-1,1,1,0,0,0,0,0,0,0,0,0,0,0,0]),mod2array([34,57,36,60],[33,58,41,42,65,66,35,59]))\n",
    "n_x_20 = nullifier(np.array([0,0,0,0,-1,1,-1,1,0,0,0,0,0,0,0,0]),mod2array([46,69,75,76],[45,70,49,50,73,74,51,52]))\n",
    "n_x_21 = nullifier(np.array([0,0,0,0,-1,1,0,0,0,0,0,0,0,0,0,0]),mod2array([18,20,45,51,52],[17,19,25,26,27,28,46,49,50]))\n",
    "n_x_22 = nullifier(np.array([0,0,0,0,1,-1,0,0,0,0,0,0,-1,1,0,0]),mod2array([20,22,53,54],[19,21,27,28,29,30,51,52]))\n",
    "n_x_23 = nullifier(np.array([0,0,0,0,0,0,0,0,0,0,0,0,1,-1,0,0]),mod2array([22,24,48,55,56],[21,23,29,30,31,32,47,53,54]))\n",
    "n_x_24 = nullifier(np.array([0,0,-1,-1,0,0,0,0,0,0,0,0,0,0,0,0]),mod2array([58,60,81,84,91,92],[57,59,65,66,82,83,89,90]))\n",
    "n_x_25 = nullifier(np.array([0,0,-1,-1,0,0,0,0,0,0,-1,-1,0,0,0,0]),mod2array([60,62,83,86,93,94],[59,61,84,85,91,92]))\n",
    "n_x_26 = nullifier(np.array([0,0,0,0,0,0,0,0,0,0,-1,-1,0,0,0,0]),mod2array([62,64,85,88,95,96],[61,63,67,68,86,87,93,94]))\n",
    "\n",
    "n_xs = [n_x_0, n_x_1, n_x_2, n_x_3, n_x_4, n_x_5, n_x_6, n_x_7, n_x_8, n_x_9, n_x_10, n_x_11, n_x_12, n_x_13, n_x_14, n_x_15, n_x_16, n_x_17, n_x_18, n_x_19, n_x_20, n_x_21, n_x_22, n_x_23, n_x_24, n_x_25, n_x_26]\n",
    "\n",
    "\n",
    "n_p_0 = nullifier(np.array([-1,1,1,-1,-1,-1,-1,-1,1,-1,1,-1,1,1,-1,-1]), np.zeros(112))\n",
    "n_p_1 = nullifier(np.array([0,0,-1,1,0,0,-1,-1,0,0,1,-1,0,0,1,1]), mod2array([91,93], [92,94,99,100,101,102]))\n",
    "n_p_2 = nullifier(np.array([1,-1,0,0,-1,-1,0,0,1,-1,0,0,-1,-1,0,0]),mod2array([12,13,21,22],[11,14,19,20]))\n",
    "n_p_3 = nullifier(np.array([0,0,0,0,0,0,-1,1,0,0,0,0,0,0,1,-1]),mod2array([77,78,99,101],[75,76,100,102,107,108,109,110]))\n",
    "n_p_4 = nullifier(np.array([-1,-1,0,0,0,0,0,0,-1,-1,0,0,0,0,0,0]),mod2array([4,5,13,14,35,37],[3,6,11,12,36,38]))\n",
    "n_p_5 = nullifier(np.array([0,0,0,0,0,0,0,0,-1,1,1,-1,-1,-1,-1,-1]),mod2array([43,47,48,67],[44,68,71,72]))\n",
    "n_p_6 = nullifier(np.array([1,-1,1,-1,1,1,-1,-1,0,0,0,0,0,0,0,0]),mod2array([42,65],[41,45,46,66,69,70]))\n",
    "n_p_7 = nullifier(np.array([0,0,0,0,-1,1,1,-1,0,0,0,0,1,-1,1,-1]),mod2array([53,54],[51,52,75,76,77,78]))\n",
    "n_p_8 = nullifier(np.array([-1,-1,-1,-1,0,0,0,0,1,1,-1,-1,0,0,0,0]),mod2array([36,37,59,61],[35,38,60,62]))\n",
    "n_p_9 = nullifier(np.array([0,0,0,0,0,0,0,0,0,0,-1,1,0,0,-1,-1]),mod2array([67,71,72,93,95],[68,94,96,101,102,103,104]))\n",
    "n_p_10 = nullifier(np.array([0,0,0,0,0,0,0,0,1,-1,0,0,-1,-1,0,0]),mod2array([14,15,23,24,43],[13,16,21,22,44,47,48]))\n",
    "n_p_11 = nullifier(np.array([0,0,1,-1,0,0,1,1,0,0,0,0,0,0,0,0]),mod2array([66,89,91],[65,69,70,90,92,97,98,99,100]))\n",
    "n_p_12 = nullifier(np.array([1,-1,0,0,-1,-1,0,0,0,0,0,0,0,0,0,0]),mod2array([10,11,19,20,41],[9,12,17,18,42,45,46]))\n",
    "n_p_13 = nullifier(np.array([0,0,0,0,0,0,0,0,0,0,0,0,0,0,-1,1]),mod2array([71,79,80,101,103],[72,77,78,102,104,109,110,111,112]))\n",
    "n_p_14 = nullifier(np.array([0,0,0,0,0,0,0,0,-1,-1,0,0,0,0,0,0]),mod2array([6,7,15,16,37,39],[5,8,13,14,38,40,43,44]))\n",
    "n_p_15 = nullifier(np.array([0,0,0,0,0,0,1,-1,0,0,0,0,0,0,0,0]),mod2array([70,75,76,97,99],[69,73,74,98,100,105,106,107,108]))\n",
    "n_p_16 = nullifier(np.array([-1,-1,0,0,0,0,0,0,0,0,0,0,0,0,0,0]),mod2array([2,3,11,12,33,35],[1,4,9,10,34,36,41,42]))\n",
    "n_p_17 = nullifier(np.array([0,0,0,0,0,0,0,0,-1,-1,-1,-1,0,0,0,0]),mod2array([38,39,43,44,61,63],[37,40,62,64,67,68]))\n",
    "n_p_18 = nullifier(np.array([0,0,0,0,0,0,0,0,0,0,0,0,-1,1,1,-1]),mod2array([47,55,56,71],[48,53,54,72,77,78,79,80]))\n",
    "n_p_19 = nullifier(np.array([1,1,-1,-1,0,0,0,0,0,0,0,0,0,0,0,0]),mod2array([34,35,57,59],[33,36,41,42,58,60,65,66]))\n",
    "n_p_20 = nullifier(np.array([0,0,0,0,1,-1,1,-1,0,0,0,0,0,0,0,0]),mod2array([46,51,52,69],[45,49,50,70,73,74,75,76]))\n",
    "n_p_21 = nullifier(np.array([0,0,0,0,1,-1,0,0,0,0,0,0,0,0,0,0]),mod2array([18,19,27,28,45],[17,20,25,26,46,49,50,51,52]))\n",
    "n_p_22 = nullifier(np.array([0,0,0,0,1,-1,0,0,0,0,0,0,1,-1,0,0]),mod2array([20,21,29,30],[19,22,27,28,51,52,53,54]))\n",
    "n_p_23 = nullifier(np.array([0,0,0,0,0,0,0,0,0,0,0,0,1,-1,0,0]),mod2array([22,23,31,32,47],[21,24,29,30,48,53,54,55,56]))\n",
    "n_p_24 = nullifier(np.array([0,0,1,1,0,0,0,0,0,0,0,0,0,0,0,0]),mod2array([58,59,81,83],[57,60,65,66,82,84,89,90,91,92]))\n",
    "n_p_25 = nullifier(np.array([0,0,-1,-1,0,0,0,0,0,0,1,1,0,0,0,0]),mod2array([60,61,83,85],[59,62,84,86,91,92,93,94]))\n",
    "n_p_26 = nullifier(np.array([0,0,0,0,0,0,0,0,0,0,-1,-1,0,0,0,0]),mod2array([62,63,67,68,85,87],[61,64,86,88,93,94,95,96]))\n",
    "\n",
    "n_ps = [n_p_0, n_p_1, n_p_2, n_p_3, n_p_4, n_p_5, n_p_6, n_p_7, n_p_8, n_p_9, n_p_10, n_p_11, n_p_12, n_p_13, n_p_14, n_p_15, n_p_16, n_p_17, n_p_18, n_p_19, n_p_20, n_p_21, n_p_22, n_p_23, n_p_24, n_p_25, n_p_26]"
   ]
  },
  {
   "cell_type": "code",
   "execution_count": 8,
   "metadata": {},
   "outputs": [],
   "source": [
    "# Calculating the squeezing needed for only using the unit cell nullifiers for x and p\n",
    "\n",
    "RHS = []\n",
    "n_x = np.array([-1,1,1,-1,-1,-1,-1,-1,-1,1,-1,1,-1,-1,1,1])\n",
    "n_p = np.array([-1,1,1,-1,-1,-1,-1,-1,1,-1,1,-1,1,1,-1,-1])\n",
    "\n",
    "for i in range(len(Ss)):\n",
    "    h_jS1 = Ss[i][0]@n_x\n",
    "    g_jS1 = Ss[i][0]@n_p\n",
    "    h_jS2 = Ss[i][1]@n_x\n",
    "    g_jS2 = Ss[i][1]@n_p\n",
    "    try:\n",
    "        RHS.append(round(abs(10*math.log10((np.abs(h_jS1.dot(g_jS1))+np.abs(h_jS2.dot(g_jS2)))/16))))\n",
    "    except:\n",
    "        RHS.append(-1)"
   ]
  },
  {
   "cell_type": "code",
   "execution_count": 9,
   "metadata": {},
   "outputs": [
    {
     "data": {
      "image/png": "[encoded data removed]",
      "text/plain": [
       "<Figure size 432x288 with 1 Axes>"
      ]
     },
     "metadata": {
      "needs_background": "light"
     },
     "output_type": "display_data"
    }
   ],
   "source": [
    "from matplotlib import pyplot as plt\n",
    "plt.hist(RHS)\n",
    "plt.show()"
   ]
  },
  {
   "cell_type": "code",
   "execution_count": 61,
   "metadata": {},
   "outputs": [
    {
     "name": "stderr",
     "output_type": "stream",
     "text": [
      "<ipython-input-61-1bfc0b88685c>:21: RuntimeWarning: divide by zero encountered in log10\n",
      "  temp_value = abs(10*np.log10((np.abs(h_jS1.dot(g_jS1))+np.abs(h_jS2.dot(g_jS2)))/16))\n"
     ]
    }
   ],
   "source": [
    "# Check for all possible combination of using one x nullifier for the x operator and using a single p nullifier for the p operator \n",
    "\n",
    "solution = []\n",
    "\n",
    "for bipartition in Ss[:500]:\n",
    "    operators = ()\n",
    "    value = np.infty\n",
    "    temp_value = 0\n",
    "    for x_operator in n_xs:\n",
    "        if value <= 4:\n",
    "            break\n",
    "        for p_operator in n_ps:\n",
    "            if operatorOverlap(x_operator.boundary_modes, p_operator.boundary_modes):\n",
    "                pass\n",
    "            else:\n",
    "                h_jS1 = bipartition[0]@x_operator.unit_cell_modes\n",
    "                g_jS1 = bipartition[0]@p_operator.unit_cell_modes\n",
    "                h_jS2 = bipartition[1]@x_operator.unit_cell_modes\n",
    "                g_jS2 = bipartition[1]@p_operator.unit_cell_modes\n",
    "                try:\n",
    "                    temp_value = abs(10*np.log10((np.abs(h_jS1.dot(g_jS1))+np.abs(h_jS2.dot(g_jS2)))/16))\n",
    "                    if temp_value < value:\n",
    "                        value = temp_value\n",
    "                        operators = x_operator, p_operator\n",
    "                except:\n",
    "                    pass\n",
    "            \n",
    "            if value <= 4:\n",
    "                break\n",
    "\n",
    "    solution.append([value, operators])"
   ]
  },
  {
   "cell_type": "code",
   "execution_count": 62,
   "metadata": {},
   "outputs": [
    {
     "data": {
      "image/png": "[encoded data removed]",
      "text/plain": [
       "<Figure size 432x288 with 1 Axes>"
      ]
     },
     "metadata": {
      "needs_background": "light"
     },
     "output_type": "display_data"
    }
   ],
   "source": [
    "from matplotlib import pyplot as plt\n",
    "plt.hist([i[0] for i in solution])\n",
    "plt.show()\n"
   ]
  },
  {
   "cell_type": "code",
   "execution_count": 32,
   "metadata": {},
   "outputs": [],
   "source": [
    "remaining_partitions = [i for i, value in enumerate(solution) if value[0]>3]"
   ]
  },
  {
   "cell_type": "code",
   "execution_count": 29,
   "metadata": {},
   "outputs": [
    {
     "data": {
      "text/plain": [
       "[0,\n",
       " 1,\n",
       " 2,\n",
       " 3,\n",
       " 4,\n",
       " 5,\n",
       " 6,\n",
       " 7,\n",
       " 8,\n",
       " 9,\n",
       " 10,\n",
       " 11,\n",
       " 12,\n",
       " 13,\n",
       " 15,\n",
       " 16,\n",
       " 17,\n",
       " 18,\n",
       " 19,\n",
       " 20,\n",
       " 21,\n",
       " 23,\n",
       " 24,\n",
       " 25,\n",
       " 27,\n",
       " 31,\n",
       " 32,\n",
       " 33,\n",
       " 34,\n",
       " 35,\n",
       " 36,\n",
       " 37,\n",
       " 39,\n",
       " 40,\n",
       " 41,\n",
       " 43,\n",
       " 47,\n",
       " 48,\n",
       " 49,\n",
       " 51,\n",
       " 55,\n",
       " 63,\n",
       " 64,\n",
       " 65,\n",
       " 66,\n",
       " 67,\n",
       " 68,\n",
       " 69,\n",
       " 71,\n",
       " 72,\n",
       " 73,\n",
       " 75,\n",
       " 79,\n",
       " 80,\n",
       " 81,\n",
       " 83,\n",
       " 87,\n",
       " 95,\n",
       " 96,\n",
       " 97,\n",
       " 99,\n",
       " 103,\n",
       " 111,\n",
       " 127,\n",
       " 128,\n",
       " 129,\n",
       " 130,\n",
       " 131,\n",
       " 132,\n",
       " 133,\n",
       " 135,\n",
       " 136,\n",
       " 137,\n",
       " 139,\n",
       " 143,\n",
       " 144,\n",
       " 145,\n",
       " 147,\n",
       " 151,\n",
       " 159,\n",
       " 160,\n",
       " 161,\n",
       " 163,\n",
       " 167,\n",
       " 175,\n",
       " 191,\n",
       " 192,\n",
       " 193,\n",
       " 195,\n",
       " 199]"
      ]
     },
     "execution_count": 29,
     "metadata": {},
     "output_type": "execute_result"
    }
   ],
   "source": [
    "remaining_partitions"
   ]
  },
  {
   "cell_type": "code",
   "execution_count": 30,
   "metadata": {},
   "outputs": [],
   "source": [
    "# Check for all possible combination of adding two x nullifiers for the x operator and using a single p nullifier for the p operator \n",
    "\n",
    "for i in remaining_partitions:\n",
    "    bipartition = Ss[i]\n",
    "    operators = ()\n",
    "    value = np.infty\n",
    "    temp_value = 0\n",
    "    for i, x_operator in enumerate(n_xs):\n",
    "        if value <= 3:\n",
    "            break\n",
    "        for k in range(len(n_xs)):\n",
    "            if i != k:\n",
    "                x_operator = x_operator.add_nullifier(n_xs[k])\n",
    "            else:\n",
    "                break\n",
    "            if value <= 3:\n",
    "                break\n",
    "            for p_operator in n_ps:\n",
    "                if operatorOverlap(x_operator.boundary_modes, p_operator.boundary_modes):\n",
    "                    pass\n",
    "                else:\n",
    "                    h_jS1 = bipartition[0]@x_operator.unit_cell_modes\n",
    "                    g_jS1 = bipartition[0]@p_operator.unit_cell_modes\n",
    "                    h_jS2 = bipartition[1]@x_operator.unit_cell_modes\n",
    "                    g_jS2 = bipartition[1]@p_operator.unit_cell_modes\n",
    "                    try:\n",
    "                        temp_value = round(abs(10*math.log10((np.abs(h_jS1.dot(g_jS1))+np.abs(h_jS2.dot(g_jS2)))/24)))\n",
    "                        if temp_value < value:\n",
    "                            value = temp_value\n",
    "                            operators = x_operator, p_operator\n",
    "                    except:\n",
    "                        pass\n",
    "                \n",
    "                if value <= 3:\n",
    "                    solution[i]=([value, operators])\n",
    "                    break"
   ]
  },
  {
   "cell_type": "code",
   "execution_count": 14,
   "metadata": {},
   "outputs": [],
   "source": [
    "# Check for all possible combination of subtracting two x nullifiers for the x operator and using a single p nullifier for the p operator \n",
    "\n",
    "for i in remaining_partitions:\n",
    "    bipartition = Ss[i]\n",
    "    operators = ()\n",
    "    value = np.infty\n",
    "    temp_value = 0\n",
    "    for i, x_operator in enumerate(n_xs):\n",
    "        if value <= 3:\n",
    "            break\n",
    "        for k in range(len(n_xs)):\n",
    "            if i != k:\n",
    "                x_operator = x_operator.subtract_nullifier(n_xs[k])\n",
    "            else:\n",
    "                break\n",
    "            if value <= 3:\n",
    "                break\n",
    "            for p_operator in n_ps:\n",
    "                if operatorOverlap(x_operator.boundary_modes, p_operator.boundary_modes):\n",
    "                    pass\n",
    "                else:\n",
    "                    h_jS1 = bipartition[0]@x_operator.unit_cell_modes\n",
    "                    g_jS1 = bipartition[0]@p_operator.unit_cell_modes\n",
    "                    h_jS2 = bipartition[1]@x_operator.unit_cell_modes\n",
    "                    g_jS2 = bipartition[1]@p_operator.unit_cell_modes\n",
    "                    try:\n",
    "                        temp_value = round(abs(10*math.log10((np.abs(h_jS1.dot(g_jS1))+np.abs(h_jS2.dot(g_jS2)))/24)))\n",
    "                        if temp_value < value:\n",
    "                            value = temp_value\n",
    "                            operators = x_operator, p_operator\n",
    "                    except:\n",
    "                        pass\n",
    "                \n",
    "                if value <= 3:\n",
    "                    solution[i]=([value, operators])\n",
    "                    break"
   ]
  },
  {
   "cell_type": "code",
   "execution_count": 15,
   "metadata": {},
   "outputs": [],
   "source": [
    "# Check for all possible combination of adding two p nullifiers for the p operator and using a single x nullifier for the x operator \n",
    "\n",
    "for i in remaining_partitions:\n",
    "    bipartition = Ss[i]\n",
    "    operators = ()\n",
    "    value = np.infty\n",
    "    temp_value = 0\n",
    "    for i, p_operator in enumerate(n_ps):\n",
    "        if value <= 3:\n",
    "            break\n",
    "        for k in range(len(n_ps)):\n",
    "            if i != k:\n",
    "                p_operator = p_operator.add_nullifier(n_ps[k])\n",
    "            else:\n",
    "                break\n",
    "            if value <= 3:\n",
    "                break\n",
    "            for x_operator in n_xs:\n",
    "                if operatorOverlap(x_operator.boundary_modes, p_operator.boundary_modes):\n",
    "                    pass\n",
    "                else:\n",
    "                    h_jS1 = bipartition[0]@x_operator.unit_cell_modes\n",
    "                    g_jS1 = bipartition[0]@x_operator.unit_cell_modes\n",
    "                    h_jS2 = bipartition[0]@p_operator.unit_cell_modes\n",
    "                    g_jS2 = bipartition[0]@p_operator.unit_cell_modes\n",
    "                    try:\n",
    "                        temp_value = round(abs(10*math.log10((np.abs(h_jS1.dot(g_jS1))+np.abs(h_jS2.dot(g_jS2)))/24)))\n",
    "                        if temp_value < value:\n",
    "                            value = temp_value\n",
    "                            operators = x_operator, p_operator\n",
    "                    except:\n",
    "                        pass\n",
    "                \n",
    "                if value <= 3:\n",
    "                    solution[i]=([value, operators])\n",
    "                    break"
   ]
  },
  {
   "cell_type": "code",
   "execution_count": 16,
   "metadata": {},
   "outputs": [
    {
     "data": {
      "text/plain": [
       "556"
      ]
     },
     "execution_count": 16,
     "metadata": {},
     "output_type": "execute_result"
    }
   ],
   "source": [
    "remaining_partitions = [i for i, value in enumerate(solution) if value[0]>3]\n",
    "len(remaining_partitions)"
   ]
  },
  {
   "cell_type": "code",
   "execution_count": 17,
   "metadata": {},
   "outputs": [],
   "source": [
    "# Check for all possible combination of subtracting two p nullifiers for the p operator and using a single x nullifier for the x operator \n",
    "\n",
    "for i in remaining_partitions:\n",
    "    bipartition = Ss[i]\n",
    "    operators = ()\n",
    "    value = np.infty\n",
    "    temp_value = 0\n",
    "    for i, p_operator in enumerate(n_ps):\n",
    "        if value <= 3:\n",
    "            break\n",
    "        for k in range(len(n_ps)):\n",
    "            if i != k:\n",
    "                p_operator = p_operator.subtract_nullifier(n_ps[k])\n",
    "            else:\n",
    "                break\n",
    "            if value <= 3:\n",
    "                break\n",
    "            for x_operator in n_xs:\n",
    "                if operatorOverlap(x_operator.boundary_modes, p_operator.boundary_modes):\n",
    "                    pass\n",
    "                else:\n",
    "                    h_jS1 = bipartition[0]@x_operator.unit_cell_modes\n",
    "                    g_jS1 = bipartition[0]@x_operator.unit_cell_modes\n",
    "                    h_jS2 = bipartition[0]@p_operator.unit_cell_modes\n",
    "                    g_jS2 = bipartition[0]@p_operator.unit_cell_modes\n",
    "                    try:\n",
    "                        temp_value = round(abs(10*math.log10((np.abs(h_jS1.dot(g_jS1))+np.abs(h_jS2.dot(g_jS2)))/24)))\n",
    "                        if temp_value < value:\n",
    "                            value = temp_value\n",
    "                            operators = x_operator, p_operator\n",
    "                    except:\n",
    "                        pass\n",
    "                \n",
    "                if value <= 3:\n",
    "                    solution[i]=([value, operators])\n",
    "                    break"
   ]
  },
  {
   "cell_type": "code",
   "execution_count": 18,
   "metadata": {},
   "outputs": [],
   "source": [
    "# Check for all possible combination of adding two x nullifiers for the x operator and dding two p nullifiers for the p operator\n",
    "\n",
    "for i in remaining_partitions:\n",
    "    bipartition = Ss[i]\n",
    "    operators = ()\n",
    "    value = np.infty\n",
    "    temp_value = 0\n",
    "    for i, x_operator in enumerate(n_xs):\n",
    "        if value <= 3:\n",
    "            break\n",
    "        for k in range(len(n_xs)):\n",
    "            if i != k:\n",
    "                x_operator = x_operator.add_nullifier(n_xs[k])\n",
    "            else:\n",
    "                break\n",
    "            if value <= 3:\n",
    "                break\n",
    "            for j, p_operator in enumerate(n_ps):\n",
    "                if value <= 3:\n",
    "                    break\n",
    "                for l in range(len(n_ps)):\n",
    "                    if j != l:\n",
    "                        p_operator = p_operator.add_nullifier(n_ps[l])\n",
    "                    else:\n",
    "                        break\n",
    "                    if value <= 3:\n",
    "                        break\n",
    "                    if operatorOverlap(x_operator.boundary_modes, p_operator.boundary_modes):\n",
    "                        pass\n",
    "                    else:\n",
    "                        h_jS1 = bipartition[0]@x_operator.unit_cell_modes\n",
    "                        g_jS1 = bipartition[0]@x_operator.unit_cell_modes\n",
    "                        h_jS2 = bipartition[0]@p_operator.unit_cell_modes\n",
    "                        g_jS2 = bipartition[0]@p_operator.unit_cell_modes\n",
    "                        try:\n",
    "                            temp_value = round(abs(10*math.log10((np.abs(h_jS1.dot(g_jS1))+np.abs(h_jS2.dot(g_jS2)))/32)))\n",
    "                            if temp_value < value:\n",
    "                                value = temp_value\n",
    "                                operators = x_operator, p_operator\n",
    "                        except:\n",
    "                            pass\n",
    "                    \n",
    "                    if value <= 3:\n",
    "                        solution[i]=([value, operators])\n",
    "                        break"
   ]
  },
  {
   "cell_type": "code",
   "execution_count": 19,
   "metadata": {},
   "outputs": [
    {
     "data": {
      "text/plain": [
       "32212"
      ]
     },
     "execution_count": 19,
     "metadata": {},
     "output_type": "execute_result"
    }
   ],
   "source": [
    "solved_partitions = [i for i, value in enumerate(solution) if value[0]<=3]\n",
    "len(solved_partitions)"
   ]
  },
  {
   "cell_type": "code",
   "execution_count": 20,
   "metadata": {},
   "outputs": [
    {
     "data": {
      "text/plain": [
       "11"
      ]
     },
     "execution_count": 20,
     "metadata": {},
     "output_type": "execute_result"
    }
   ],
   "source": [
    "annoying_partitions = [i for i, value in enumerate(solution) if value[0]>6]\n",
    "len(annoying_partitions)"
   ]
  },
  {
   "cell_type": "code",
   "execution_count": 21,
   "metadata": {},
   "outputs": [
    {
     "data": {
      "text/plain": [
       "556"
      ]
     },
     "execution_count": 21,
     "metadata": {},
     "output_type": "execute_result"
    }
   ],
   "source": [
    "len(remaining_partitions)"
   ]
  },
  {
   "cell_type": "code",
   "execution_count": null,
   "metadata": {},
   "outputs": [],
   "source": []
  }
 ],
 "metadata": {
  "interpreter": {
   "hash": "916dbcbb3f70747c44a77c7bcd40155683ae19c65e1c03b4aa3499c5328201f1"
  },
  "kernelspec": {
   "display_name": "Python 3.8.10 64-bit",
   "name": "python3"
  },
  "language_info": {
   "codemirror_mode": {
    "name": "ipython",
    "version": 3
   },
   "file_extension": ".py",
   "mimetype": "text/x-python",
   "name": "python",
   "nbconvert_exporter": "python",
   "pygments_lexer": "ipython3",
   "version": "3.9.0"
  },
  "orig_nbformat": 4
 },
 "nbformat": 4,
 "nbformat_minor": 2
}
