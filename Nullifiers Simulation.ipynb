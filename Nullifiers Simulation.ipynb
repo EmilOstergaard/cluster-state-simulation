{
 "cells": [
  {
   "cell_type": "code",
<<<<<<< HEAD
   "execution_count": 2,
=======
   "execution_count": 1,
>>>>>>> 70898398b302116e03b06783b82c518beca47b6f
   "metadata": {},
   "outputs": [],
   "source": [
    "import numpy as np\n",
    "import math\n",
    "import itertools\n",
    "from multiprocessing import Pool, cpu_count"
   ]
  },
  {
   "cell_type": "code",
<<<<<<< HEAD
   "execution_count": 3,
=======
   "execution_count": 2,
>>>>>>> 70898398b302116e03b06783b82c518beca47b6f
   "metadata": {},
   "outputs": [],
   "source": [
    "def binary(x,n):\n",
    "    num = x\n",
    "    bin_num = np.zeros(n)\n",
    "\n",
    "    for i in range(n-1,-1,-1):\n",
    "        if num - 2**i >= 0:\n",
    "            bin_num[i] = int(1)\n",
    "            num = num - 2**i\n",
    "\n",
    "    return [int(x) for x in bin_num.tolist()]\n",
    "\n",
    "def binary_inv(x,n):\n",
    "    num = x\n",
    "    bin_num = np.ones(n)\n",
    "\n",
    "    for i in range(n-1,-1,-1):\n",
    "        if num - 2**i >= 0:\n",
    "            bin_num[i] = int(0)\n",
    "            num = num - 2**i\n",
    "\n",
<<<<<<< HEAD
    "    return [int(x) for x in bin_num.tolist()]"
   ]
  },
  {
   "cell_type": "code",
   "execution_count": 4,
   "metadata": {},
   "outputs": [],
   "source": [
    "n=16\n",
    "bipartitions = []\n",
    "Ss = []\n",
    "\n",
    "for i in range(2**(n-1)-1):\n",
    "    bin_num = binary(i+1,n)\n",
    "    bin_num_inv = binary_inv(i+1,n)\n",
    "    S_1 = []\n",
    "    S_2 = []\n",
    "    for k in range(n):\n",
    "        if bin_num[k] == 1:\n",
    "            S_1.append(k+1)\n",
    "        else:\n",
    "            S_2.append(k+1)\n",
    "    bipartitions.append([S_1, S_2])\n",
    "\n",
    "    S1 = np.diag(bin_num)\n",
    "    S2 = np.diag(bin_num_inv)\n",
    "    \n",
    "    Ss.append([S1,S2])\n"
   ]
  },
  {
   "cell_type": "code",
   "execution_count": 24,
   "metadata": {},
   "outputs": [
    {
     "name": "stdout",
     "output_type": "stream",
     "text": [
      "[[0 0 0 0 0 0 0 0 0 0 0 0 0 0 0 0]\n",
      " [0 1 0 0 0 0 0 0 0 0 0 0 0 0 0 0]\n",
      " [0 0 1 0 0 0 0 0 0 0 0 0 0 0 0 0]\n",
      " [0 0 0 1 0 0 0 0 0 0 0 0 0 0 0 0]\n",
      " [0 0 0 0 1 0 0 0 0 0 0 0 0 0 0 0]\n",
      " [0 0 0 0 0 1 0 0 0 0 0 0 0 0 0 0]\n",
      " [0 0 0 0 0 0 1 0 0 0 0 0 0 0 0 0]\n",
      " [0 0 0 0 0 0 0 1 0 0 0 0 0 0 0 0]\n",
      " [0 0 0 0 0 0 0 0 1 0 0 0 0 0 0 0]\n",
      " [0 0 0 0 0 0 0 0 0 1 0 0 0 0 0 0]\n",
      " [0 0 0 0 0 0 0 0 0 0 1 0 0 0 0 0]\n",
      " [0 0 0 0 0 0 0 0 0 0 0 1 0 0 0 0]\n",
      " [0 0 0 0 0 0 0 0 0 0 0 0 1 0 0 0]\n",
      " [0 0 0 0 0 0 0 0 0 0 0 0 0 1 0 0]\n",
      " [0 0 0 0 0 0 0 0 0 0 0 0 0 0 1 0]\n",
      " [0 0 0 0 0 0 0 0 0 0 0 0 0 0 0 1]]\n"
     ]
    }
   ],
   "source": [
    "print(Ss[0][1])"
   ]
  },
  {
   "cell_type": "code",
   "execution_count": 5,
   "metadata": {},
   "outputs": [],
   "source": [
    "class nullifier():\n",
    "    def __init__(self, unit_cell_modes, boundary_modes):\n",
    "        self.unit_cell_modes = unit_cell_modes\n",
    "        self.boundary_modes = boundary_modes\n",
    "    \n",
    "    def add_nullifier(self, n):\n",
    "        new_unit_cell_modes = self.unit_cell_modes + n.unit_cell_modes\n",
    "        new_boundary_modes = self.boundary_modes + n.boundary_modes\n",
    "        return nullifier(new_unit_cell_modes, new_boundary_modes)\n",
    "\n",
    "    def subtract_nullifier(self, n):\n",
    "        new_unit_cell_modes = self.unit_cell_modes - n.unit_cell_modes\n",
    "        new_boundary_modes = self.boundary_modes - n.boundary_modes\n",
    "        return nullifier(new_unit_cell_modes, new_boundary_modes)\n"
   ]
  },
  {
   "cell_type": "code",
   "execution_count": 6,
   "metadata": {},
   "outputs": [],
   "source": [
=======
    "    return [int(x) for x in bin_num.tolist()]\n",
    "\n",
    "def prefactor_combination(n):\n",
    "    array = []\n",
    "    for i in range(n**2):\n",
    "        array.append(binary(i,n))\n",
    "    return array\n",
    "    \n",
>>>>>>> 70898398b302116e03b06783b82c518beca47b6f
    "def mod2array(pos, neg):\n",
    "    array = np.zeros(112)\n",
    "    for num in pos:\n",
    "        array[num-1] = 1\n",
    "    for num in neg:\n",
    "        array[num-1] = -1\n",
    "    return array\n",
    "\n",
    "def operatorOverlap(x,p):\n",
    "    for i in range(len(x)):\n",
    "        if (x[i] != 0) & (p[i] != 0):\n",
    "            return True\n",
    "            break\n",
    "        else:\n",
    "            pass\n",
    "    return False"
   ]
  },
  {
   "cell_type": "code",
<<<<<<< HEAD
   "execution_count": 7,
=======
   "execution_count": 3,
>>>>>>> 70898398b302116e03b06783b82c518beca47b6f
   "metadata": {},
   "outputs": [],
   "source": [
    "class Nullifier:\n",
    "    def __init__(self, unit_cell_modes = np.zeros(16), boundary_modes = np.zeros(112)):\n",
    "        self.unit_cell_modes = unit_cell_modes\n",
    "        self.boundary_modes = boundary_modes\n",
    "\n",
    "    def __add__(self, n):\n",
    "        return Nullifier(self.unit_cell_modes + n.unit_cell_modes, self.boundary_modes + n.boundary_modes)\n",
    "    \n",
    "    def __sub__(self, n):\n",
    "        return Nullifier(self.unit_cell_modes - n.unit_cell_modes, self.boundary_modes - n.boundary_modes)\n"
   ]
  },
  {
   "cell_type": "code",
<<<<<<< HEAD
   "execution_count": 8,
=======
   "execution_count": 4,
>>>>>>> 70898398b302116e03b06783b82c518beca47b6f
   "metadata": {},
   "outputs": [],
   "source": [
    "#Defining the unit cell nullifiers in x and p, and all adjacent nullifiers which share at least one mode in common with the unit cell nullifiers\n",
    "\n",
    "n_x_0 = Nullifier(np.array([-1,1,1,-1,-1,-1,-1,-1,-1,1,-1,1,-1,-1,1,1]), np.zeros(112))\n",
    "n_x_1 = Nullifier(np.array([0,0,-1,1,0,0,-1,-1,0,0,-1,1,0,0,-1,-1]), mod2array([91,94,101,102], [92,99,100,93]))\n",
    "n_x_2 = Nullifier(np.array([1,-1,0,0,-1,-1,0,0,-1,1,0,0,1,1,0,0]),mod2array([12,14],[11,13,19,20,21,22]))\n",
    "n_x_3 = Nullifier(np.array([0,0,0,0,0,0,-1,1,0,0,0,0,0,0,-1,1]),mod2array([99,102,109,110],[75,76,77,78,100,101,107,108]))\n",
    "n_x_4 = Nullifier(np.array([-1,-1,0,0,0,0,0,0,1,1,0,0,0,0,0,0]),mod2array([4,6,35,38],[3,5,11,12,13,14,36,37]))\n",
    "n_x_5 = Nullifier(np.array([0,0,0,0,0,0,0,0,-1,1,1,-1,-1,-1,-1,-1]),mod2array([44,66,71,72],[43,47,48,65]))\n",
    "n_x_6 = Nullifier(np.array([-1,1,-1,1,-1,-1,1,1,0,0,0,0,0,0,0,0]),mod2array([42,65],[41,66,45,46,69,70]))\n",
    "n_x_7 = Nullifier(np.array([0,0,0,0,-1,1,1,-1,0,0,0,0,-1,1,-1,1]),mod2array([77,78],[51,52,53,54,75,76]))\n",
    "n_x_8 = Nullifier(np.array([-1,-1,-1,-1,0,0,0,0,-1,-1,1,1,0,0,0,0]),mod2array([36,38,59,62],[35,37,60,61]))\n",
    "n_x_9 = Nullifier(np.array([0,0,0,0,0,0,0,0,0,0,-1,1,0,0,-1,-1]),mod2array([93,68,96,103,104],[94,101,102,67,95,71,72]))\n",
    "n_x_10 = Nullifier(np.array([0,0,0,0,0,0,0,0,1,-1,0,0,-1,-1,0,0]),mod2array([14,16,44,47,48],[13,21,22,15,43,23,24]))\n",
    "n_x_11 = Nullifier(np.array([0,0,-1,1,0,0,-1,-1,0,0,0,0,0,0,0,0]),mod2array([64,89,92,99,100],[65,90,69,70,97,98,91]))\n",
    "n_x_12 = Nullifier(np.array([-1,1,0,0,1,1,0,0,0,0,0,0,0,0,0,0]),mod2array([10,41,12],[9,42,17,18,45,46,11,19,20]))\n",
    "n_x_13 = Nullifier(np.array([0,0,0,0,0,0,0,0,0,0,0,0,0,0,-1,1]),mod2array([101,72,104,111,112],[102,77,78,109,110,71,103,79,80]))\n",
    "n_x_14 = Nullifier(np.array([0,0,0,0,0,0,0,0,-1,-1,0,0,0,0,0,0]),mod2array([6,37,8,40,43,44],[5,38,13,14,7,39,15,16]))\n",
    "n_x_15 = Nullifier(np.array([0,0,0,0,0,0,-1,1,0,0,0,0,0,0,0,0]),mod2array([70,97,100,107,108],[69,98,73,74,105,106,99,75,76]))\n",
    "n_x_16 = Nullifier(np.array([1,1,0,0,0,0,0,0,0,0,0,0,0,0,0,0]),mod2array([2,33,4,36],[1,34,9,10,41,42,3,35,11,12]))\n",
    "n_x_17 = Nullifier(np.array([0,0,0,0,0,0,0,0,-1,-1,-1,-1,0,0,0,0]),mod2array([38,61,40,64,67,68],[37,62,39,63,43,44]))\n",
    "n_x_18 = Nullifier(np.array([0,0,0,0,0,0,0,0,0,0,0,0,-1,1,1,-1]),mod2array([48,72,79,80],[53,54,77,78,47,71,55,56]))\n",
    "n_x_19 = Nullifier(np.array([-1,-1,1,1,0,0,0,0,0,0,0,0,0,0,0,0]),mod2array([34,57,36,60],[33,58,41,42,65,66,35,59]))\n",
    "n_x_20 = Nullifier(np.array([0,0,0,0,-1,1,-1,1,0,0,0,0,0,0,0,0]),mod2array([46,69,75,76],[45,70,49,50,73,74,51,52]))\n",
    "n_x_21 = Nullifier(np.array([0,0,0,0,-1,1,0,0,0,0,0,0,0,0,0,0]),mod2array([18,20,45,51,52],[17,19,25,26,27,28,46,49,50]))\n",
    "n_x_22 = Nullifier(np.array([0,0,0,0,1,-1,0,0,0,0,0,0,-1,1,0,0]),mod2array([20,22,53,54],[19,21,27,28,29,30,51,52]))\n",
    "n_x_23 = Nullifier(np.array([0,0,0,0,0,0,0,0,0,0,0,0,1,-1,0,0]),mod2array([22,24,48,55,56],[21,23,29,30,31,32,47,53,54]))\n",
    "n_x_24 = Nullifier(np.array([0,0,-1,-1,0,0,0,0,0,0,0,0,0,0,0,0]),mod2array([58,60,81,84,91,92],[57,59,65,66,82,83,89,90]))\n",
    "n_x_25 = Nullifier(np.array([0,0,-1,-1,0,0,0,0,0,0,-1,-1,0,0,0,0]),mod2array([60,62,83,86,93,94],[59,61,84,85,91,92]))\n",
    "n_x_26 = Nullifier(np.array([0,0,0,0,0,0,0,0,0,0,-1,-1,0,0,0,0]),mod2array([62,64,85,88,95,96],[61,63,67,68,86,87,93,94]))\n",
    "\n",
<<<<<<< HEAD
    "for i in range(len(Ss)):\n",
    "    h_jS1 = Ss[i][0]@n_x\n",
    "    g_jS1 = Ss[i][0]@n_p\n",
    "    h_jS2 = Ss[i][1]@n_x\n",
    "    g_jS2 = Ss[i][1]@n_p\n",
    "    try:\n",
    "        RHS.append(round(abs(10*math.log10((np.abs(h_jS1.dot(g_jS1))+np.abs(h_jS2.dot(g_jS2)))/16))))\n",
    "    except:\n",
    "        RHS.append(-1)"
   ]
  },
  {
   "cell_type": "code",
   "execution_count": 9,
   "metadata": {},
   "outputs": [
    {
     "data": {
      "image/png": "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",
      "text/plain": [
       "<Figure size 432x288 with 1 Axes>"
      ]
     },
     "metadata": {
      "needs_background": "light"
     },
     "output_type": "display_data"
    }
   ],
   "source": [
    "from matplotlib import pyplot as plt\n",
    "plt.hist(RHS)\n",
    "plt.show()"
   ]
  },
  {
   "cell_type": "code",
   "execution_count": 61,
   "metadata": {},
   "outputs": [
    {
     "name": "stderr",
     "output_type": "stream",
     "text": [
      "<ipython-input-61-1bfc0b88685c>:21: RuntimeWarning: divide by zero encountered in log10\n",
      "  temp_value = abs(10*np.log10((np.abs(h_jS1.dot(g_jS1))+np.abs(h_jS2.dot(g_jS2)))/16))\n"
     ]
    }
   ],
   "source": [
    "# Check for all possible combination of using one x nullifier for the x operator and using a single p nullifier for the p operator \n",
=======
    "n_xs = [n_x_0, n_x_1, n_x_2, n_x_3, n_x_4, n_x_5, n_x_6, n_x_7, n_x_8, n_x_9, n_x_10, n_x_11, n_x_12, n_x_13, n_x_14, n_x_15, n_x_16, n_x_17, n_x_18, n_x_19, n_x_20, n_x_21, n_x_22, n_x_23, n_x_24, n_x_25, n_x_26]\n",
>>>>>>> 70898398b302116e03b06783b82c518beca47b6f
    "\n",
    "\n",
<<<<<<< HEAD
    "for bipartition in Ss[:500]:\n",
    "    operators = ()\n",
    "    value = np.infty\n",
    "    temp_value = 0\n",
    "    for x_operator in n_xs:\n",
    "        if value <= 4:\n",
    "            break\n",
    "        for p_operator in n_ps:\n",
    "            if operatorOverlap(x_operator.boundary_modes, p_operator.boundary_modes):\n",
    "                pass\n",
    "            else:\n",
    "                h_jS1 = bipartition[0]@x_operator.unit_cell_modes\n",
    "                g_jS1 = bipartition[0]@p_operator.unit_cell_modes\n",
    "                h_jS2 = bipartition[1]@x_operator.unit_cell_modes\n",
    "                g_jS2 = bipartition[1]@p_operator.unit_cell_modes\n",
    "                try:\n",
    "                    temp_value = abs(10*np.log10((np.abs(h_jS1.dot(g_jS1))+np.abs(h_jS2.dot(g_jS2)))/16))\n",
    "                    if temp_value < value:\n",
    "                        value = temp_value\n",
    "                        operators = x_operator, p_operator\n",
    "                except:\n",
    "                    pass\n",
    "            \n",
    "            if value <= 4:\n",
    "                break\n",
    "\n",
    "    solution.append([value, operators])"
   ]
  },
  {
   "cell_type": "code",
   "execution_count": 62,
   "metadata": {},
   "outputs": [
    {
     "data": {
      "image/png": "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",
      "text/plain": [
       "<Figure size 432x288 with 1 Axes>"
      ]
     },
     "metadata": {
      "needs_background": "light"
     },
     "output_type": "display_data"
    }
   ],
   "source": [
    "from matplotlib import pyplot as plt\n",
    "plt.hist([i[0] for i in solution])\n",
    "plt.show()\n"
   ]
  },
  {
   "cell_type": "code",
   "execution_count": 32,
   "metadata": {},
   "outputs": [],
   "source": [
    "remaining_partitions = [i for i, value in enumerate(solution) if value[0]>3]"
=======
    "n_p_0 = Nullifier(np.array([-1,1,1,-1,-1,-1,-1,-1,1,-1,1,-1,1,1,-1,-1]), np.zeros(112))\n",
    "n_p_1 = Nullifier(np.array([0,0,-1,1,0,0,-1,-1,0,0,1,-1,0,0,1,1]), mod2array([91,93], [92,94,99,100,101,102]))\n",
    "n_p_2 = Nullifier(np.array([1,-1,0,0,-1,-1,0,0,1,-1,0,0,-1,-1,0,0]),mod2array([12,13,21,22],[11,14,19,20]))\n",
    "n_p_3 = Nullifier(np.array([0,0,0,0,0,0,-1,1,0,0,0,0,0,0,1,-1]),mod2array([77,78,99,101],[75,76,100,102,107,108,109,110]))\n",
    "n_p_4 = Nullifier(np.array([-1,-1,0,0,0,0,0,0,-1,-1,0,0,0,0,0,0]),mod2array([4,5,13,14,35,37],[3,6,11,12,36,38]))\n",
    "n_p_5 = Nullifier(np.array([0,0,0,0,0,0,0,0,-1,1,1,-1,-1,-1,-1,-1]),mod2array([43,47,48,67],[44,68,71,72]))\n",
    "n_p_6 = Nullifier(np.array([1,-1,1,-1,1,1,-1,-1,0,0,0,0,0,0,0,0]),mod2array([42,65],[41,45,46,66,69,70]))\n",
    "n_p_7 = Nullifier(np.array([0,0,0,0,-1,1,1,-1,0,0,0,0,1,-1,1,-1]),mod2array([53,54],[51,52,75,76,77,78]))\n",
    "n_p_8 = Nullifier(np.array([-1,-1,-1,-1,0,0,0,0,1,1,-1,-1,0,0,0,0]),mod2array([36,37,59,61],[35,38,60,62]))\n",
    "n_p_9 = Nullifier(np.array([0,0,0,0,0,0,0,0,0,0,-1,1,0,0,-1,-1]),mod2array([67,71,72,93,95],[68,94,96,101,102,103,104]))\n",
    "n_p_10 = Nullifier(np.array([0,0,0,0,0,0,0,0,1,-1,0,0,-1,-1,0,0]),mod2array([14,15,23,24,43],[13,16,21,22,44,47,48]))\n",
    "n_p_11 = Nullifier(np.array([0,0,1,-1,0,0,1,1,0,0,0,0,0,0,0,0]),mod2array([66,89,91],[65,69,70,90,92,97,98,99,100]))\n",
    "n_p_12 = Nullifier(np.array([1,-1,0,0,-1,-1,0,0,0,0,0,0,0,0,0,0]),mod2array([10,11,19,20,41],[9,12,17,18,42,45,46]))\n",
    "n_p_13 = Nullifier(np.array([0,0,0,0,0,0,0,0,0,0,0,0,0,0,-1,1]),mod2array([71,79,80,101,103],[72,77,78,102,104,109,110,111,112]))\n",
    "n_p_14 = Nullifier(np.array([0,0,0,0,0,0,0,0,-1,-1,0,0,0,0,0,0]),mod2array([6,7,15,16,37,39],[5,8,13,14,38,40,43,44]))\n",
    "n_p_15 = Nullifier(np.array([0,0,0,0,0,0,1,-1,0,0,0,0,0,0,0,0]),mod2array([70,75,76,97,99],[69,73,74,98,100,105,106,107,108]))\n",
    "n_p_16 = Nullifier(np.array([-1,-1,0,0,0,0,0,0,0,0,0,0,0,0,0,0]),mod2array([2,3,11,12,33,35],[1,4,9,10,34,36,41,42]))\n",
    "n_p_17 = Nullifier(np.array([0,0,0,0,0,0,0,0,-1,-1,-1,-1,0,0,0,0]),mod2array([38,39,43,44,61,63],[37,40,62,64,67,68]))\n",
    "n_p_18 = Nullifier(np.array([0,0,0,0,0,0,0,0,0,0,0,0,-1,1,1,-1]),mod2array([47,55,56,71],[48,53,54,72,77,78,79,80]))\n",
    "n_p_19 = Nullifier(np.array([1,1,-1,-1,0,0,0,0,0,0,0,0,0,0,0,0]),mod2array([34,35,57,59],[33,36,41,42,58,60,65,66]))\n",
    "n_p_20 = Nullifier(np.array([0,0,0,0,1,-1,1,-1,0,0,0,0,0,0,0,0]),mod2array([46,51,52,69],[45,49,50,70,73,74,75,76]))\n",
    "n_p_21 = Nullifier(np.array([0,0,0,0,1,-1,0,0,0,0,0,0,0,0,0,0]),mod2array([18,19,27,28,45],[17,20,25,26,46,49,50,51,52]))\n",
    "n_p_22 = Nullifier(np.array([0,0,0,0,1,-1,0,0,0,0,0,0,1,-1,0,0]),mod2array([20,21,29,30],[19,22,27,28,51,52,53,54]))\n",
    "n_p_23 = Nullifier(np.array([0,0,0,0,0,0,0,0,0,0,0,0,1,-1,0,0]),mod2array([22,23,31,32,47],[21,24,29,30,48,53,54,55,56]))\n",
    "n_p_24 = Nullifier(np.array([0,0,1,1,0,0,0,0,0,0,0,0,0,0,0,0]),mod2array([58,59,81,83],[57,60,65,66,82,84,89,90,91,92]))\n",
    "n_p_25 = Nullifier(np.array([0,0,-1,-1,0,0,0,0,0,0,1,1,0,0,0,0]),mod2array([60,61,83,85],[59,62,84,86,91,92,93,94]))\n",
    "n_p_26 = Nullifier(np.array([0,0,0,0,0,0,0,0,0,0,-1,-1,0,0,0,0]),mod2array([62,63,67,68,85,87],[61,64,86,88,93,94,95,96]))\n",
    "\n",
    "n_ps = [n_p_0, n_p_1, n_p_2, n_p_3, n_p_4, n_p_5, n_p_6, n_p_7, n_p_8, n_p_9, n_p_10, n_p_11, n_p_12, n_p_13, n_p_14, n_p_15, n_p_16, n_p_17, n_p_18, n_p_19, n_p_20, n_p_21, n_p_22, n_p_23, n_p_24, n_p_25, n_p_26]"
>>>>>>> 70898398b302116e03b06783b82c518beca47b6f
   ]
  },
  {
   "cell_type": "code",
<<<<<<< HEAD
   "execution_count": 29,
   "metadata": {},
   "outputs": [
    {
     "data": {
      "text/plain": [
       "[0,\n",
       " 1,\n",
       " 2,\n",
       " 3,\n",
       " 4,\n",
       " 5,\n",
       " 6,\n",
       " 7,\n",
       " 8,\n",
       " 9,\n",
       " 10,\n",
       " 11,\n",
       " 12,\n",
       " 13,\n",
       " 15,\n",
       " 16,\n",
       " 17,\n",
       " 18,\n",
       " 19,\n",
       " 20,\n",
       " 21,\n",
       " 23,\n",
       " 24,\n",
       " 25,\n",
       " 27,\n",
       " 31,\n",
       " 32,\n",
       " 33,\n",
       " 34,\n",
       " 35,\n",
       " 36,\n",
       " 37,\n",
       " 39,\n",
       " 40,\n",
       " 41,\n",
       " 43,\n",
       " 47,\n",
       " 48,\n",
       " 49,\n",
       " 51,\n",
       " 55,\n",
       " 63,\n",
       " 64,\n",
       " 65,\n",
       " 66,\n",
       " 67,\n",
       " 68,\n",
       " 69,\n",
       " 71,\n",
       " 72,\n",
       " 73,\n",
       " 75,\n",
       " 79,\n",
       " 80,\n",
       " 81,\n",
       " 83,\n",
       " 87,\n",
       " 95,\n",
       " 96,\n",
       " 97,\n",
       " 99,\n",
       " 103,\n",
       " 111,\n",
       " 127,\n",
       " 128,\n",
       " 129,\n",
       " 130,\n",
       " 131,\n",
       " 132,\n",
       " 133,\n",
       " 135,\n",
       " 136,\n",
       " 137,\n",
       " 139,\n",
       " 143,\n",
       " 144,\n",
       " 145,\n",
       " 147,\n",
       " 151,\n",
       " 159,\n",
       " 160,\n",
       " 161,\n",
       " 163,\n",
       " 167,\n",
       " 175,\n",
       " 191,\n",
       " 192,\n",
       " 193,\n",
       " 195,\n",
       " 199]"
      ]
     },
     "execution_count": 29,
     "metadata": {},
     "output_type": "execute_result"
    }
   ],
   "source": [
    "remaining_partitions"
   ]
  },
  {
   "cell_type": "code",
   "execution_count": 30,
=======
   "execution_count": 5,
>>>>>>> 70898398b302116e03b06783b82c518beca47b6f
   "metadata": {},
   "outputs": [],
   "source": [
    "\n",
<<<<<<< HEAD
    "for i in remaining_partitions:\n",
    "    bipartition = Ss[i]\n",
    "    operators = ()\n",
    "    value = np.infty\n",
    "    temp_value = 0\n",
    "    for i, x_operator in enumerate(n_xs):\n",
    "        if value <= 3:\n",
    "            break\n",
    "        for k in range(len(n_xs)):\n",
    "            if i != k:\n",
    "                x_operator = x_operator.add_nullifier(n_xs[k])\n",
    "            else:\n",
    "                break\n",
    "            if value <= 3:\n",
    "                break\n",
    "            for p_operator in n_ps:\n",
    "                if operatorOverlap(x_operator.boundary_modes, p_operator.boundary_modes):\n",
    "                    pass\n",
    "                else:\n",
    "                    h_jS1 = bipartition[0]@x_operator.unit_cell_modes\n",
    "                    g_jS1 = bipartition[0]@p_operator.unit_cell_modes\n",
    "                    h_jS2 = bipartition[1]@x_operator.unit_cell_modes\n",
    "                    g_jS2 = bipartition[1]@p_operator.unit_cell_modes\n",
    "                    try:\n",
    "                        temp_value = round(abs(10*math.log10((np.abs(h_jS1.dot(g_jS1))+np.abs(h_jS2.dot(g_jS2)))/24)))\n",
    "                        if temp_value < value:\n",
    "                            value = temp_value\n",
    "                            operators = x_operator, p_operator\n",
    "                    except:\n",
    "                        pass\n",
    "                \n",
    "                if value <= 3:\n",
    "                    solution[i]=([value, operators])\n",
    "                    break"
   ]
  },
  {
   "cell_type": "code",
   "execution_count": 14,
   "metadata": {},
   "outputs": [],
   "source": [
    "# Check for all possible combination of subtracting two x nullifiers for the x operator and using a single p nullifier for the p operator \n",
    "\n",
    "for i in remaining_partitions:\n",
    "    bipartition = Ss[i]\n",
    "    operators = ()\n",
    "    value = np.infty\n",
    "    temp_value = 0\n",
    "    for i, x_operator in enumerate(n_xs):\n",
    "        if value <= 3:\n",
    "            break\n",
    "        for k in range(len(n_xs)):\n",
    "            if i != k:\n",
    "                x_operator = x_operator.subtract_nullifier(n_xs[k])\n",
    "            else:\n",
    "                break\n",
    "            if value <= 3:\n",
    "                break\n",
    "            for p_operator in n_ps:\n",
    "                if operatorOverlap(x_operator.boundary_modes, p_operator.boundary_modes):\n",
    "                    pass\n",
    "                else:\n",
    "                    h_jS1 = bipartition[0]@x_operator.unit_cell_modes\n",
    "                    g_jS1 = bipartition[0]@p_operator.unit_cell_modes\n",
    "                    h_jS2 = bipartition[1]@x_operator.unit_cell_modes\n",
    "                    g_jS2 = bipartition[1]@p_operator.unit_cell_modes\n",
    "                    try:\n",
    "                        temp_value = round(abs(10*math.log10((np.abs(h_jS1.dot(g_jS1))+np.abs(h_jS2.dot(g_jS2)))/24)))\n",
    "                        if temp_value < value:\n",
    "                            value = temp_value\n",
    "                            operators = x_operator, p_operator\n",
    "                    except:\n",
    "                        pass\n",
    "                \n",
    "                if value <= 3:\n",
    "                    solution[i]=([value, operators])\n",
    "                    break"
=======
    "num_modes=16\n",
    "bipartitions = []\n",
    "\n",
    "for i in range(2**(num_modes-1)-1):\n",
    "    bin_num = binary(i+1, num_modes)\n",
    "    bin_num_inv = binary_inv(i+1, num_modes)\n",
    "    partition_1 = []\n",
    "    partition_2 = []\n",
    "    for k in range(num_modes):\n",
    "        if bin_num[k] == 1:\n",
    "            partition_1.append(k+1)\n",
    "        else:\n",
    "            partition_2.append(k+1)\n",
    "\n",
    "    partition_1_matrix = np.diag(bin_num)\n",
    "    partition_2_matrix = np.diag(bin_num_inv)\n",
    "\n",
    "    bipartition_id = i\n",
    "    bipartitions.append([[partition_1_matrix,partition_2_matrix], bipartition_id, (partition_1, partition_2)])"
>>>>>>> 70898398b302116e03b06783b82c518beca47b6f
   ]
  },
  {
   "cell_type": "code",
<<<<<<< HEAD
   "execution_count": 15,
=======
   "execution_count": 6,
>>>>>>> 70898398b302116e03b06783b82c518beca47b6f
   "metadata": {},
   "outputs": [],
   "source": [
    "total_nullifier_combinations = []\n",
    "\n",
    "for num_operators in range(2,6):\n",
    "\n",
    "    nullifier_combinations = []\n",
    "\n",
    "    for n in range(num_operators-1):\n",
    "        \n",
    "        num_x_operators = n + 1\n",
    "        num_p_operators = num_operators - num_x_operators\n",
    "        # all the ways of selecting n x-nullifiers and N-n p-nullifiers\n",
    "        n_x_combinations = list(itertools.combinations(range(27), num_x_operators))\n",
    "        n_p_combinations = list(itertools.combinations(range(27), num_p_operators))\n",
    "        \n",
    "        total_n_x_combinations = []\n",
    "        total_n_p_combinations = []\n",
    "        # combine all the x-nullifiers with all possible combinations of + and - prefactors\n",
    "        for i, n_x_combination in enumerate(n_x_combinations):\n",
    "            if len(n_x_combination) > 1:\n",
    "                    for combination in prefactor_combination(len(n_x_combination)):\n",
    "                        operator = Nullifier()\n",
    "                        operator_iden = ''\n",
    "                        for k, index in enumerate(n_x_combination):\n",
    "                            if combination[k] == 0:\n",
    "                                operator = operator + n_xs[index]\n",
    "                                operator_iden += '+n_x_%d'%index\n",
    "                            else:\n",
    "                                operator = operator - n_xs[index]\n",
    "                                operator_iden += '-n_x_%d'%index\n",
    "                        total_n_x_combinations.append([operator, operator_iden])\n",
    "            else:\n",
<<<<<<< HEAD
    "                break\n",
    "            if value <= 3:\n",
    "                break\n",
    "            for x_operator in n_xs:\n",
    "                if operatorOverlap(x_operator.boundary_modes, p_operator.boundary_modes):\n",
    "                    pass\n",
    "                else:\n",
    "                    h_jS1 = bipartition[0]@x_operator.unit_cell_modes\n",
    "                    g_jS1 = bipartition[0]@x_operator.unit_cell_modes\n",
    "                    h_jS2 = bipartition[0]@p_operator.unit_cell_modes\n",
    "                    g_jS2 = bipartition[0]@p_operator.unit_cell_modes\n",
    "                    try:\n",
    "                        temp_value = round(abs(10*math.log10((np.abs(h_jS1.dot(g_jS1))+np.abs(h_jS2.dot(g_jS2)))/24)))\n",
    "                        if temp_value < value:\n",
    "                            value = temp_value\n",
    "                            operators = x_operator, p_operator\n",
    "                    except:\n",
    "                        pass\n",
    "                \n",
    "                if value <= 3:\n",
    "                    solution[i]=([value, operators])\n",
    "                    break"
   ]
  },
  {
   "cell_type": "code",
   "execution_count": 16,
   "metadata": {},
   "outputs": [
    {
     "data": {
      "text/plain": [
       "556"
      ]
     },
     "execution_count": 16,
     "metadata": {},
     "output_type": "execute_result"
    }
   ],
   "source": [
    "remaining_partitions = [i for i, value in enumerate(solution) if value[0]>3]\n",
    "len(remaining_partitions)"
   ]
  },
  {
   "cell_type": "code",
   "execution_count": 17,
   "metadata": {},
   "outputs": [],
   "source": [
    "# Check for all possible combination of subtracting two p nullifiers for the p operator and using a single x nullifier for the x operator \n",
=======
    "                (index,) = n_x_combination\n",
    "                operator = n_xs[index]\n",
    "                operator_iden = 'n_x_%d'%index\n",
    "                total_n_x_combinations.append([operator,operator_iden])\n",
>>>>>>> 70898398b302116e03b06783b82c518beca47b6f
    "\n",
    "        # combine all the p-nullifiers with all possible combinations of + and - prefactors\n",
    "        for i, n_p_combination in enumerate(n_p_combinations):\n",
    "            if len(n_p_combination) > 1:\n",
    "                    for combination in prefactor_combination(len(n_p_combination)):\n",
    "                        operator = Nullifier()\n",
    "                        operator_iden = ''\n",
    "                        for k, index in enumerate(n_p_combination):\n",
    "                            if combination[k] == 0:\n",
    "                                operator = operator + n_ps[index]\n",
    "                                operator_iden += '+n_p_%d'%index\n",
    "                            else:\n",
    "                                operator = operator - n_ps[index]\n",
    "                                operator_iden += '-n_p_%d'%index\n",
    "                        total_n_p_combinations.append([operator, operator_iden])\n",
    "            else:\n",
    "                (index,) = n_p_combination\n",
    "                operator = n_ps[index]\n",
    "                operator_iden = 'n_p_%d'%index\n",
    "                total_n_p_combinations.append([operator,operator_iden])\n",
    "\n",
    "        nullifier_combinations.append([total_n_x_combinations,total_n_p_combinations])\n",
    "    \n",
    "    total_nullifier_combinations.append(nullifier_combinations)"
   ]
  },
  {
   "cell_type": "code",
<<<<<<< HEAD
   "execution_count": 18,
=======
   "execution_count": 7,
>>>>>>> 70898398b302116e03b06783b82c518beca47b6f
   "metadata": {},
   "outputs": [],
   "source": [
    "def find_solution(bipartition):\n",
    "    sqz_limit = 6\n",
    "    value = np.infty\n",
    "    bipartition_matrix = bipartition[0]\n",
    "    bipartition_id = bipartition[1]\n",
    "    bipartition_info = bipartition[2]\n",
    "    for num_nullifiers in range(2):\n",
    "        if value <= sqz_limit:\n",
    "            break\n",
    "        nullifier_combinations = total_nullifier_combinations[num_nullifiers]\n",
    "        for [total_n_x_combinations, total_n_p_combinations] in nullifier_combinations:\n",
    "            if value <= sqz_limit:\n",
    "                break\n",
    "            for x_operator, x_operator_iden in total_n_x_combinations:\n",
    "                if value <= sqz_limit:\n",
    "                        break\n",
    "                for p_operator, p_operator_iden in total_n_p_combinations:\n",
    "                    if operatorOverlap(x_operator.boundary_modes, p_operator.boundary_modes):\n",
    "                        pass\n",
    "                    \n",
    "                    else:\n",
    "                        h_j1 = bipartition_matrix[0]@x_operator.unit_cell_modes\n",
    "                        g_j1 = bipartition_matrix[0]@p_operator.unit_cell_modes\n",
    "                        h_j2 = bipartition_matrix[1]@x_operator.unit_cell_modes\n",
    "                        g_j2 = bipartition_matrix[1]@p_operator.unit_cell_modes\n",
    "                        try:\n",
    "                            temp_value = abs(10*math.log10((np.abs(h_j1.dot(g_j1))+np.abs(h_j2.dot(g_j2)))/(8*num_operators)))\n",
    "                            if temp_value < value:\n",
    "                                value = temp_value\n",
    "                                operators = x_operator_iden, p_operator_iden\n",
    "                        except:\n",
    "                            pass\n",
    "                    if value <= sqz_limit:\n",
    "                        break\n",
    "    return [value, operators, bipartition_id, bipartition_info]"
   ]
  },
  {
   "cell_type": "code",
<<<<<<< HEAD
   "execution_count": 19,
   "metadata": {},
   "outputs": [
    {
     "data": {
      "text/plain": [
       "32212"
      ]
     },
     "execution_count": 19,
     "metadata": {},
     "output_type": "execute_result"
=======
   "execution_count": 8,
   "metadata": {},
   "outputs": [
    {
     "name": "stderr",
     "output_type": "stream",
     "text": [
      "Process ForkPoolWorker-7:\n",
      "Process ForkPoolWorker-1:\n",
      "Process ForkPoolWorker-3:\n",
      "Process ForkPoolWorker-2:\n",
      "Process ForkPoolWorker-6:\n",
      "Process ForkPoolWorker-8:\n",
      "Traceback (most recent call last):\n",
      "Traceback (most recent call last):\n",
      "  File \"/home/eebos/anaconda3/lib/python3.8/multiprocessing/process.py\", line 315, in _bootstrap\n",
      "    self.run()\n",
      "Traceback (most recent call last):\n",
      "Traceback (most recent call last):\n",
      "  File \"/home/eebos/anaconda3/lib/python3.8/multiprocessing/process.py\", line 315, in _bootstrap\n",
      "    self.run()\n",
      "Traceback (most recent call last):\n",
      "Traceback (most recent call last):\n",
      "  File \"/home/eebos/anaconda3/lib/python3.8/multiprocessing/process.py\", line 315, in _bootstrap\n",
      "    self.run()\n",
      "  File \"/home/eebos/anaconda3/lib/python3.8/multiprocessing/process.py\", line 315, in _bootstrap\n",
      "    self.run()\n",
      "  File \"/home/eebos/anaconda3/lib/python3.8/multiprocessing/process.py\", line 108, in run\n",
      "    self._target(*self._args, **self._kwargs)\n",
      "  File \"/home/eebos/anaconda3/lib/python3.8/multiprocessing/process.py\", line 108, in run\n",
      "    self._target(*self._args, **self._kwargs)\n",
      "  File \"/home/eebos/anaconda3/lib/python3.8/multiprocessing/process.py\", line 315, in _bootstrap\n",
      "    self.run()\n",
      "  File \"/home/eebos/anaconda3/lib/python3.8/multiprocessing/pool.py\", line 114, in worker\n",
      "    task = get()\n",
      "  File \"/home/eebos/anaconda3/lib/python3.8/multiprocessing/process.py\", line 315, in _bootstrap\n",
      "    self.run()\n",
      "  File \"/home/eebos/anaconda3/lib/python3.8/multiprocessing/pool.py\", line 125, in worker\n",
      "    result = (True, func(*args, **kwds))\n",
      "  File \"/home/eebos/anaconda3/lib/python3.8/multiprocessing/process.py\", line 108, in run\n",
      "    self._target(*self._args, **self._kwargs)\n",
      "Process ForkPoolWorker-5:\n",
      "  File \"/home/eebos/anaconda3/lib/python3.8/multiprocessing/process.py\", line 108, in run\n",
      "    self._target(*self._args, **self._kwargs)\n",
      "Traceback (most recent call last):\n",
      "  File \"/home/eebos/anaconda3/lib/python3.8/multiprocessing/pool.py\", line 48, in mapstar\n",
      "    return list(map(*args))\n",
      "  File \"/home/eebos/anaconda3/lib/python3.8/multiprocessing/pool.py\", line 114, in worker\n",
      "    task = get()\n",
      "  File \"/home/eebos/anaconda3/lib/python3.8/multiprocessing/queues.py\", line 355, in get\n",
      "    with self._rlock:\n",
      "  File \"/home/eebos/anaconda3/lib/python3.8/multiprocessing/process.py\", line 108, in run\n",
      "    self._target(*self._args, **self._kwargs)\n",
      "Process ForkPoolWorker-4:\n",
      "  File \"/home/eebos/anaconda3/lib/python3.8/multiprocessing/pool.py\", line 125, in worker\n",
      "    result = (True, func(*args, **kwds))\n",
      "  File \"/home/eebos/anaconda3/lib/python3.8/multiprocessing/pool.py\", line 125, in worker\n",
      "    result = (True, func(*args, **kwds))\n",
      "  File \"/home/eebos/anaconda3/lib/python3.8/multiprocessing/synchronize.py\", line 95, in __enter__\n",
      "    return self._semlock.__enter__()\n",
      "  File \"/home/eebos/anaconda3/lib/python3.8/multiprocessing/queues.py\", line 355, in get\n",
      "    with self._rlock:\n",
      "  File \"/home/eebos/anaconda3/lib/python3.8/multiprocessing/process.py\", line 315, in _bootstrap\n",
      "    self.run()\n",
      "Traceback (most recent call last):\n",
      "  File \"/home/eebos/anaconda3/lib/python3.8/multiprocessing/synchronize.py\", line 95, in __enter__\n",
      "    return self._semlock.__enter__()\n",
      "  File \"/home/eebos/anaconda3/lib/python3.8/multiprocessing/pool.py\", line 48, in mapstar\n",
      "    return list(map(*args))\n",
      "  File \"/home/eebos/anaconda3/lib/python3.8/multiprocessing/process.py\", line 108, in run\n",
      "    self._target(*self._args, **self._kwargs)\n",
      "  File \"/home/eebos/anaconda3/lib/python3.8/multiprocessing/process.py\", line 315, in _bootstrap\n",
      "    self.run()\n",
      "KeyboardInterrupt\n",
      "  File \"/home/eebos/anaconda3/lib/python3.8/multiprocessing/process.py\", line 108, in run\n",
      "    self._target(*self._args, **self._kwargs)\n",
      "  File \"/home/eebos/anaconda3/lib/python3.8/multiprocessing/pool.py\", line 114, in worker\n",
      "    task = get()\n",
      "  File \"/home/eebos/anaconda3/lib/python3.8/multiprocessing/process.py\", line 108, in run\n",
      "    self._target(*self._args, **self._kwargs)\n",
      "  File \"/home/eebos/anaconda3/lib/python3.8/multiprocessing/queues.py\", line 355, in get\n",
      "    with self._rlock:\n",
      "  File \"/home/eebos/anaconda3/lib/python3.8/multiprocessing/pool.py\", line 125, in worker\n",
      "    result = (True, func(*args, **kwds))\n",
      "  File \"<ipython-input-7-b26b49d082ce>\", line 18, in find_solution\n",
      "    if operatorOverlap(x_operator.boundary_modes, p_operator.boundary_modes):\n",
      "  File \"/home/eebos/anaconda3/lib/python3.8/multiprocessing/pool.py\", line 114, in worker\n",
      "    task = get()\n",
      "  File \"<ipython-input-7-b26b49d082ce>\", line 18, in find_solution\n",
      "    if operatorOverlap(x_operator.boundary_modes, p_operator.boundary_modes):\n",
      "  File \"<ipython-input-2-3c7fbdbdb775>\", line 39, in operatorOverlap\n",
      "    if (x[i] != 0) & (p[i] != 0):\n",
      "  File \"/home/eebos/anaconda3/lib/python3.8/multiprocessing/pool.py\", line 48, in mapstar\n",
      "    return list(map(*args))\n",
      "  File \"/home/eebos/anaconda3/lib/python3.8/multiprocessing/queues.py\", line 356, in get\n",
      "    res = self._reader.recv_bytes()\n",
      "KeyboardInterrupt\n",
      "  File \"/home/eebos/anaconda3/lib/python3.8/multiprocessing/synchronize.py\", line 95, in __enter__\n",
      "    return self._semlock.__enter__()\n",
      "  File \"/home/eebos/anaconda3/lib/python3.8/multiprocessing/connection.py\", line 216, in recv_bytes\n",
      "    buf = self._recv_bytes(maxlength)\n",
      "  File \"<ipython-input-7-b26b49d082ce>\", line 18, in find_solution\n",
      "    if operatorOverlap(x_operator.boundary_modes, p_operator.boundary_modes):\n",
      "KeyboardInterrupt\n",
      "  File \"<ipython-input-2-3c7fbdbdb775>\", line 39, in operatorOverlap\n",
      "    if (x[i] != 0) & (p[i] != 0):\n",
      "  File \"<ipython-input-2-3c7fbdbdb775>\", line 39, in operatorOverlap\n",
      "    if (x[i] != 0) & (p[i] != 0):\n",
      "KeyboardInterrupt\n",
      "  File \"/home/eebos/anaconda3/lib/python3.8/multiprocessing/pool.py\", line 48, in mapstar\n",
      "    return list(map(*args))\n",
      "KeyboardInterrupt\n",
      "KeyboardInterrupt\n",
      "  File \"<ipython-input-7-b26b49d082ce>\", line 18, in find_solution\n",
      "    if operatorOverlap(x_operator.boundary_modes, p_operator.boundary_modes):\n",
      "  File \"/home/eebos/anaconda3/lib/python3.8/multiprocessing/connection.py\", line 414, in _recv_bytes\n",
      "    buf = self._recv(4)\n",
      "  File \"<ipython-input-2-3c7fbdbdb775>\", line 39, in operatorOverlap\n",
      "    if (x[i] != 0) & (p[i] != 0):\n",
      "  File \"/home/eebos/anaconda3/lib/python3.8/multiprocessing/connection.py\", line 379, in _recv\n",
      "    chunk = read(handle, remaining)\n",
      "KeyboardInterrupt\n",
      "KeyboardInterrupt\n"
     ]
    },
    {
     "ename": "KeyboardInterrupt",
     "evalue": "",
     "output_type": "error",
     "traceback": [
      "\u001b[0;31m---------------------------------------------------------------------------\u001b[0m",
      "\u001b[0;31mKeyboardInterrupt\u001b[0m                         Traceback (most recent call last)",
      "\u001b[0;32m<ipython-input-8-704c61587775>\u001b[0m in \u001b[0;36m<module>\u001b[0;34m\u001b[0m\n\u001b[1;32m      3\u001b[0m \u001b[0mpool\u001b[0m \u001b[0;34m=\u001b[0m \u001b[0mPool\u001b[0m\u001b[0;34m(\u001b[0m\u001b[0mcpu_count\u001b[0m\u001b[0;34m(\u001b[0m\u001b[0;34m)\u001b[0m\u001b[0;34m)\u001b[0m\u001b[0;34m\u001b[0m\u001b[0;34m\u001b[0m\u001b[0m\n\u001b[1;32m      4\u001b[0m \u001b[0;31m# solution.append(pool.map(find_solution, bipartitions[100:1000]))\u001b[0m\u001b[0;34m\u001b[0m\u001b[0;34m\u001b[0m\u001b[0;34m\u001b[0m\u001b[0m\n\u001b[0;32m----> 5\u001b[0;31m \u001b[0;32mfor\u001b[0m \u001b[0m_\u001b[0m \u001b[0;32min\u001b[0m \u001b[0mtqdm\u001b[0m\u001b[0;34m.\u001b[0m\u001b[0mtqdm\u001b[0m\u001b[0;34m(\u001b[0m\u001b[0msolution\u001b[0m\u001b[0;34m.\u001b[0m\u001b[0mappend\u001b[0m\u001b[0;34m(\u001b[0m\u001b[0mpool\u001b[0m\u001b[0;34m.\u001b[0m\u001b[0mmap\u001b[0m\u001b[0;34m(\u001b[0m\u001b[0mfind_solution\u001b[0m\u001b[0;34m,\u001b[0m \u001b[0mbipartitions\u001b[0m\u001b[0;34m[\u001b[0m\u001b[0;36m100\u001b[0m\u001b[0;34m:\u001b[0m\u001b[0;36m200\u001b[0m\u001b[0;34m]\u001b[0m\u001b[0;34m)\u001b[0m\u001b[0;34m)\u001b[0m\u001b[0;34m,\u001b[0m \u001b[0mtotal\u001b[0m\u001b[0;34m=\u001b[0m\u001b[0mlen\u001b[0m\u001b[0;34m(\u001b[0m\u001b[0mbipartitions\u001b[0m\u001b[0;34m[\u001b[0m\u001b[0;36m100\u001b[0m\u001b[0;34m:\u001b[0m\u001b[0;36m200\u001b[0m\u001b[0;34m]\u001b[0m\u001b[0;34m)\u001b[0m\u001b[0;34m)\u001b[0m\u001b[0;34m:\u001b[0m\u001b[0;34m\u001b[0m\u001b[0;34m\u001b[0m\u001b[0m\n\u001b[0m\u001b[1;32m      6\u001b[0m     \u001b[0;32mpass\u001b[0m\u001b[0;34m\u001b[0m\u001b[0;34m\u001b[0m\u001b[0m\n",
      "\u001b[0;32m~/anaconda3/lib/python3.8/multiprocessing/pool.py\u001b[0m in \u001b[0;36mmap\u001b[0;34m(self, func, iterable, chunksize)\u001b[0m\n\u001b[1;32m    362\u001b[0m         \u001b[0;32min\u001b[0m \u001b[0ma\u001b[0m \u001b[0mlist\u001b[0m \u001b[0mthat\u001b[0m \u001b[0;32mis\u001b[0m \u001b[0mreturned\u001b[0m\u001b[0;34m.\u001b[0m\u001b[0;34m\u001b[0m\u001b[0;34m\u001b[0m\u001b[0m\n\u001b[1;32m    363\u001b[0m         '''\n\u001b[0;32m--> 364\u001b[0;31m         \u001b[0;32mreturn\u001b[0m \u001b[0mself\u001b[0m\u001b[0;34m.\u001b[0m\u001b[0m_map_async\u001b[0m\u001b[0;34m(\u001b[0m\u001b[0mfunc\u001b[0m\u001b[0;34m,\u001b[0m \u001b[0miterable\u001b[0m\u001b[0;34m,\u001b[0m \u001b[0mmapstar\u001b[0m\u001b[0;34m,\u001b[0m \u001b[0mchunksize\u001b[0m\u001b[0;34m)\u001b[0m\u001b[0;34m.\u001b[0m\u001b[0mget\u001b[0m\u001b[0;34m(\u001b[0m\u001b[0;34m)\u001b[0m\u001b[0;34m\u001b[0m\u001b[0;34m\u001b[0m\u001b[0m\n\u001b[0m\u001b[1;32m    365\u001b[0m \u001b[0;34m\u001b[0m\u001b[0m\n\u001b[1;32m    366\u001b[0m     \u001b[0;32mdef\u001b[0m \u001b[0mstarmap\u001b[0m\u001b[0;34m(\u001b[0m\u001b[0mself\u001b[0m\u001b[0;34m,\u001b[0m \u001b[0mfunc\u001b[0m\u001b[0;34m,\u001b[0m \u001b[0miterable\u001b[0m\u001b[0;34m,\u001b[0m \u001b[0mchunksize\u001b[0m\u001b[0;34m=\u001b[0m\u001b[0;32mNone\u001b[0m\u001b[0;34m)\u001b[0m\u001b[0;34m:\u001b[0m\u001b[0;34m\u001b[0m\u001b[0;34m\u001b[0m\u001b[0m\n",
      "\u001b[0;32m~/anaconda3/lib/python3.8/multiprocessing/pool.py\u001b[0m in \u001b[0;36mget\u001b[0;34m(self, timeout)\u001b[0m\n\u001b[1;32m    763\u001b[0m \u001b[0;34m\u001b[0m\u001b[0m\n\u001b[1;32m    764\u001b[0m     \u001b[0;32mdef\u001b[0m \u001b[0mget\u001b[0m\u001b[0;34m(\u001b[0m\u001b[0mself\u001b[0m\u001b[0;34m,\u001b[0m \u001b[0mtimeout\u001b[0m\u001b[0;34m=\u001b[0m\u001b[0;32mNone\u001b[0m\u001b[0;34m)\u001b[0m\u001b[0;34m:\u001b[0m\u001b[0;34m\u001b[0m\u001b[0;34m\u001b[0m\u001b[0m\n\u001b[0;32m--> 765\u001b[0;31m         \u001b[0mself\u001b[0m\u001b[0;34m.\u001b[0m\u001b[0mwait\u001b[0m\u001b[0;34m(\u001b[0m\u001b[0mtimeout\u001b[0m\u001b[0;34m)\u001b[0m\u001b[0;34m\u001b[0m\u001b[0;34m\u001b[0m\u001b[0m\n\u001b[0m\u001b[1;32m    766\u001b[0m         \u001b[0;32mif\u001b[0m \u001b[0;32mnot\u001b[0m \u001b[0mself\u001b[0m\u001b[0;34m.\u001b[0m\u001b[0mready\u001b[0m\u001b[0;34m(\u001b[0m\u001b[0;34m)\u001b[0m\u001b[0;34m:\u001b[0m\u001b[0;34m\u001b[0m\u001b[0;34m\u001b[0m\u001b[0m\n\u001b[1;32m    767\u001b[0m             \u001b[0;32mraise\u001b[0m \u001b[0mTimeoutError\u001b[0m\u001b[0;34m\u001b[0m\u001b[0;34m\u001b[0m\u001b[0m\n",
      "\u001b[0;32m~/anaconda3/lib/python3.8/multiprocessing/pool.py\u001b[0m in \u001b[0;36mwait\u001b[0;34m(self, timeout)\u001b[0m\n\u001b[1;32m    760\u001b[0m \u001b[0;34m\u001b[0m\u001b[0m\n\u001b[1;32m    761\u001b[0m     \u001b[0;32mdef\u001b[0m \u001b[0mwait\u001b[0m\u001b[0;34m(\u001b[0m\u001b[0mself\u001b[0m\u001b[0;34m,\u001b[0m \u001b[0mtimeout\u001b[0m\u001b[0;34m=\u001b[0m\u001b[0;32mNone\u001b[0m\u001b[0;34m)\u001b[0m\u001b[0;34m:\u001b[0m\u001b[0;34m\u001b[0m\u001b[0;34m\u001b[0m\u001b[0m\n\u001b[0;32m--> 762\u001b[0;31m         \u001b[0mself\u001b[0m\u001b[0;34m.\u001b[0m\u001b[0m_event\u001b[0m\u001b[0;34m.\u001b[0m\u001b[0mwait\u001b[0m\u001b[0;34m(\u001b[0m\u001b[0mtimeout\u001b[0m\u001b[0;34m)\u001b[0m\u001b[0;34m\u001b[0m\u001b[0;34m\u001b[0m\u001b[0m\n\u001b[0m\u001b[1;32m    763\u001b[0m \u001b[0;34m\u001b[0m\u001b[0m\n\u001b[1;32m    764\u001b[0m     \u001b[0;32mdef\u001b[0m \u001b[0mget\u001b[0m\u001b[0;34m(\u001b[0m\u001b[0mself\u001b[0m\u001b[0;34m,\u001b[0m \u001b[0mtimeout\u001b[0m\u001b[0;34m=\u001b[0m\u001b[0;32mNone\u001b[0m\u001b[0;34m)\u001b[0m\u001b[0;34m:\u001b[0m\u001b[0;34m\u001b[0m\u001b[0;34m\u001b[0m\u001b[0m\n",
      "\u001b[0;32m~/anaconda3/lib/python3.8/threading.py\u001b[0m in \u001b[0;36mwait\u001b[0;34m(self, timeout)\u001b[0m\n\u001b[1;32m    556\u001b[0m             \u001b[0msignaled\u001b[0m \u001b[0;34m=\u001b[0m \u001b[0mself\u001b[0m\u001b[0;34m.\u001b[0m\u001b[0m_flag\u001b[0m\u001b[0;34m\u001b[0m\u001b[0;34m\u001b[0m\u001b[0m\n\u001b[1;32m    557\u001b[0m             \u001b[0;32mif\u001b[0m \u001b[0;32mnot\u001b[0m \u001b[0msignaled\u001b[0m\u001b[0;34m:\u001b[0m\u001b[0;34m\u001b[0m\u001b[0;34m\u001b[0m\u001b[0m\n\u001b[0;32m--> 558\u001b[0;31m                 \u001b[0msignaled\u001b[0m \u001b[0;34m=\u001b[0m \u001b[0mself\u001b[0m\u001b[0;34m.\u001b[0m\u001b[0m_cond\u001b[0m\u001b[0;34m.\u001b[0m\u001b[0mwait\u001b[0m\u001b[0;34m(\u001b[0m\u001b[0mtimeout\u001b[0m\u001b[0;34m)\u001b[0m\u001b[0;34m\u001b[0m\u001b[0;34m\u001b[0m\u001b[0m\n\u001b[0m\u001b[1;32m    559\u001b[0m             \u001b[0;32mreturn\u001b[0m \u001b[0msignaled\u001b[0m\u001b[0;34m\u001b[0m\u001b[0;34m\u001b[0m\u001b[0m\n\u001b[1;32m    560\u001b[0m \u001b[0;34m\u001b[0m\u001b[0m\n",
      "\u001b[0;32m~/anaconda3/lib/python3.8/threading.py\u001b[0m in \u001b[0;36mwait\u001b[0;34m(self, timeout)\u001b[0m\n\u001b[1;32m    300\u001b[0m         \u001b[0;32mtry\u001b[0m\u001b[0;34m:\u001b[0m    \u001b[0;31m# restore state no matter what (e.g., KeyboardInterrupt)\u001b[0m\u001b[0;34m\u001b[0m\u001b[0;34m\u001b[0m\u001b[0m\n\u001b[1;32m    301\u001b[0m             \u001b[0;32mif\u001b[0m \u001b[0mtimeout\u001b[0m \u001b[0;32mis\u001b[0m \u001b[0;32mNone\u001b[0m\u001b[0;34m:\u001b[0m\u001b[0;34m\u001b[0m\u001b[0;34m\u001b[0m\u001b[0m\n\u001b[0;32m--> 302\u001b[0;31m                 \u001b[0mwaiter\u001b[0m\u001b[0;34m.\u001b[0m\u001b[0macquire\u001b[0m\u001b[0;34m(\u001b[0m\u001b[0;34m)\u001b[0m\u001b[0;34m\u001b[0m\u001b[0;34m\u001b[0m\u001b[0m\n\u001b[0m\u001b[1;32m    303\u001b[0m                 \u001b[0mgotit\u001b[0m \u001b[0;34m=\u001b[0m \u001b[0;32mTrue\u001b[0m\u001b[0;34m\u001b[0m\u001b[0;34m\u001b[0m\u001b[0m\n\u001b[1;32m    304\u001b[0m             \u001b[0;32melse\u001b[0m\u001b[0;34m:\u001b[0m\u001b[0;34m\u001b[0m\u001b[0;34m\u001b[0m\u001b[0m\n",
      "\u001b[0;31mKeyboardInterrupt\u001b[0m: "
     ]
>>>>>>> 70898398b302116e03b06783b82c518beca47b6f
    }
   ],
   "source": [
    "import tqdm\n",
    "solution = []\n",
    "pool = Pool(cpu_count())\n",
    "# solution.append(pool.map(find_solution, bipartitions[100:1000]))\n",
    "for _ in tqdm.tqdm(solution.append(pool.map(find_solution, bipartitions[100:200])), total=len(bipartitions[100:200])):\n",
    "    pass"
   ]
  },
  {
   "cell_type": "code",
<<<<<<< HEAD
   "execution_count": 20,
=======
   "execution_count": 9,
>>>>>>> 70898398b302116e03b06783b82c518beca47b6f
   "metadata": {},
   "outputs": [
    {
     "data": {
      "image/png": "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",
      "text/plain": [
       "<Figure size 432x288 with 1 Axes>"
      ]
     },
<<<<<<< HEAD
     "execution_count": 20,
     "metadata": {},
     "output_type": "execute_result"
    }
   ],
   "source": [
    "annoying_partitions = [i for i, value in enumerate(solution) if value[0]>6]\n",
    "len(annoying_partitions)"
   ]
  },
  {
   "cell_type": "code",
   "execution_count": 21,
   "metadata": {},
   "outputs": [
=======
     "metadata": {
      "needs_background": "light"
     },
     "output_type": "display_data"
    },
>>>>>>> 70898398b302116e03b06783b82c518beca47b6f
    {
     "data": {
      "text/plain": [
       "0"
      ]
     },
<<<<<<< HEAD
     "execution_count": 21,
=======
     "execution_count": 9,
>>>>>>> 70898398b302116e03b06783b82c518beca47b6f
     "metadata": {},
     "output_type": "execute_result"
    }
   ],
   "source": [
    "from matplotlib import pyplot as plt\n",
    "plt.hist([i[0] for i in solution])\n",
    "plt.show()\n",
    "\n",
    "len(solution)\n",
    "len([i for i in solution if i[0]<4])\n"
   ]
  }
 ],
 "metadata": {
  "interpreter": {
   "hash": "dab0ef86199dd9aa46c8411ff0ddffde98a083b8f6a6bbd07af041d28fe3c12e"
  },
  "kernelspec": {
   "display_name": "Python 3.8.8 64-bit ('base': conda)",
   "name": "python3"
  },
  "language_info": {
   "codemirror_mode": {
    "name": "ipython",
    "version": 3
   },
   "file_extension": ".py",
   "mimetype": "text/x-python",
   "name": "python",
   "nbconvert_exporter": "python",
   "pygments_lexer": "ipython3",
<<<<<<< HEAD
   "version": "3.9.0"
=======
   "version": "3.8.8"
>>>>>>> 70898398b302116e03b06783b82c518beca47b6f
  },
  "orig_nbformat": 4
 },
 "nbformat": 4,
 "nbformat_minor": 2
}
